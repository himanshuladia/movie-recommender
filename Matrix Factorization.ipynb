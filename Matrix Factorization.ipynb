{
 "cells": [
  {
   "cell_type": "code",
   "execution_count": 1,
   "metadata": {},
   "outputs": [],
   "source": [
    "import pandas as pd\n",
    "import numpy as np\n",
    "from sklearn.metrics import mean_squared_error"
   ]
  },
  {
   "cell_type": "code",
   "execution_count": 2,
   "metadata": {},
   "outputs": [],
   "source": [
    "matrix = np.array(pd.read_csv('database.csv'))"
   ]
  },
  {
   "cell_type": "code",
   "execution_count": 3,
   "metadata": {},
   "outputs": [],
   "source": [
    "def mse(matrix, predictions):\n",
    "    matrix = matrix.flatten()\n",
    "    predictions = predictions.flatten()\n",
    "    nonzero = np.nonzero(matrix)\n",
    "    return mean_squared_error(matrix[nonzero], predictions[nonzero])"
   ]
  },
  {
   "cell_type": "code",
   "execution_count": 4,
   "metadata": {},
   "outputs": [],
   "source": [
    "def predict(global_bias, user_bias, item_bias, user_embedding, item_embedding, u, i):\n",
    "    prediction = global_bias + user_bias[u] + item_bias[i] + np.dot(user_embedding[u],item_embedding[i])\n",
    "    return prediction"
   ]
  },
  {
   "cell_type": "code",
   "execution_count": 5,
   "metadata": {},
   "outputs": [],
   "source": [
    "def predictAll(global_bias, user_bias, item_bias, user_embedding, item_embedding):\n",
    "    n_users = user_embedding.shape[0]\n",
    "    n_items = item_embedding.shape[0]\n",
    "    predictions = np.zeros((n_users, n_items))\n",
    "    for u in range(n_users):\n",
    "        for i in range(n_items):\n",
    "            predictions[u,i] = predict(global_bias, user_bias, item_bias, user_embedding, item_embedding, u, i)\n",
    "    return predictions"
   ]
  },
  {
   "cell_type": "code",
   "execution_count": 8,
   "metadata": {},
   "outputs": [],
   "source": [
    "def train(ratings, k, learning_rate, regularization, epochs):\n",
    "    n_users, n_items = ratings.shape\n",
    "    user_embedding = np.random.normal(scale = 1/k, size=(n_users, k))\n",
    "    item_embedding = np.random.normal(scale = 1/k, size=(n_items, k))\n",
    "    global_bias = np.mean(ratings[np.where(ratings != 0)])\n",
    "    user_bias = np.zeros(n_users)\n",
    "    item_bias = np.zeros(n_items)\n",
    "    rows, cols = np.nonzero(ratings)\n",
    "    for epoch in range(epochs):\n",
    "        p = np.random.permutation(len(rows))\n",
    "        rows, cols = rows[p], cols[p]\n",
    "        for u,i in zip(*(rows,cols)):\n",
    "            prediction = predict(global_bias, user_bias, item_bias, user_embedding, item_embedding, u, i)\n",
    "            actual = ratings[u,i]\n",
    "            e = actual - prediction\n",
    "            loss = e**2 + regularization*(np.linalg.norm(user_embedding[u]) + np.linalg.norm(item_embedding[i]) + user_bias[u] + item_bias[i])\n",
    "            user_bias[u] += learning_rate * (e - regularization * user_bias[u])\n",
    "            item_bias[i] += learning_rate * (e - regularization * item_bias[i])\n",
    "            user_embedding[u] += learning_rate * (e * item_embedding[i] - regularization * user_embedding[u])\n",
    "            item_embedding[i] += learning_rate * (e * user_embedding[u] - regularization * item_embedding[i])\n",
    "    return global_bias, user_bias, item_bias, user_embedding, item_embedding"
   ]
  },
  {
   "cell_type": "code",
   "execution_count": 9,
   "metadata": {},
   "outputs": [],
   "source": [
    "global_bias, user_bias, item_bias, user_embedding, item_embedding = train(matrix, 40, 0.0001, 0, 1)"
   ]
  },
  {
   "cell_type": "code",
   "execution_count": 10,
   "metadata": {},
   "outputs": [],
   "source": [
    "predictions = predictAll(global_bias, user_bias, item_bias, user_embedding, item_embedding)"
   ]
  },
  {
   "cell_type": "code",
   "execution_count": 11,
   "metadata": {},
   "outputs": [],
   "source": [
    "predictions = np.where(np.isnan(predictions), 0, predictions)\n",
    "predictions = np.where(np.isinf(predictions), 0, predictions)"
   ]
  },
  {
   "cell_type": "code",
   "execution_count": 12,
   "metadata": {},
   "outputs": [
    {
     "data": {
      "text/plain": [
       "1.0616311378966825"
      ]
     },
     "execution_count": 12,
     "metadata": {},
     "output_type": "execute_result"
    }
   ],
   "source": [
    "mse(matrix, predictions)"
   ]
  }
 ],
 "metadata": {
  "kernelspec": {
   "display_name": "Python 3",
   "language": "python",
   "name": "python3"
  },
  "language_info": {
   "codemirror_mode": {
    "name": "ipython",
    "version": 3
   },
   "file_extension": ".py",
   "mimetype": "text/x-python",
   "name": "python",
   "nbconvert_exporter": "python",
   "pygments_lexer": "ipython3",
   "version": "3.7.0"
  }
 },
 "nbformat": 4,
 "nbformat_minor": 2
}
